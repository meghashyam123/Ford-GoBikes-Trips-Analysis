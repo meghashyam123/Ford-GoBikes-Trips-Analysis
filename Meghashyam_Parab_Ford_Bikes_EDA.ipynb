{
  "nbformat": 4,
  "nbformat_minor": 0,
  "metadata": {
    "colab": {
      "private_outputs": true,
      "provenance": [],
      "collapsed_sections": [
        "mDgbUHAGgjLW"
      ],
      "gpuType": "T4"
    },
    "kernelspec": {
      "name": "python3",
      "display_name": "Python 3"
    },
    "language_info": {
      "name": "python"
    },
    "accelerator": "GPU"
  },
  "cells": [
    {
      "cell_type": "markdown",
      "source": [
        "# **Project Name**    - Ford GoBike Trips EDA\n",
        "\n"
      ],
      "metadata": {
        "id": "vncDsAP0Gaoa"
      }
    },
    {
      "cell_type": "markdown",
      "source": [
        "##### **Project Type**    - EDA\n",
        "##### **Contribution**    - Individual\n",
        "##### Team Member 1 - Meghashyam Parab\n"
      ],
      "metadata": {
        "id": "beRrZCGUAJYm"
      }
    },
    {
      "cell_type": "markdown",
      "source": [
        "# **Project Summary -**"
      ],
      "metadata": {
        "id": "FJNUwmbgGyua"
      }
    },
    {
      "cell_type": "markdown",
      "source": [
        "🚴‍♂️ Ford GoBike Trips Analysis\n",
        "\n",
        "Welcome to an exciting journey into the world of urban mobility! 🌎✨\n",
        "This project dives deep into the Ford GoBike (now Bay Wheels) trip data, uncovering how people move across San Francisco and neighboring cities.\n",
        "\n",
        "📊 What's Inside\n",
        "\n",
        "🚲 Trip Trends: Peak hours, popular routes, rider demographics.\n",
        "\n",
        "📅 Time Travel: Patterns across weekdays, weekends, and seasons.\n",
        "\n",
        "🌍 Geospatial Magic: Mapping ride start and end points.\n",
        "\n",
        "🔎 User Behavior Insights: Subscribers vs casual riders — who rides when?\n",
        "\n",
        "📈 Predictive Modeling (optional): Can we predict the next trip?\n",
        "\n",
        "🛠️ Tech Stack\n",
        "\n",
        "\n",
        "*   Python (Pandas, Matplotlib, Seaborn, Plotly)\n",
        "\n",
        "*   Tableau/Power BI for dashboards (optional)\n",
        "\n",
        "\n",
        "\n",
        "\n",
        "\n",
        "\n",
        "\n"
      ],
      "metadata": {
        "id": "F6v_1wHtG2nS"
      }
    },
    {
      "cell_type": "markdown",
      "source": [
        "# **GitHub Link -**"
      ],
      "metadata": {
        "id": "w6K7xa23Elo4"
      }
    },
    {
      "cell_type": "markdown",
      "source": [
        "https://github.com/meghashyam123/Ford-GoBikes-Trips-Analysis"
      ],
      "metadata": {
        "id": "h1o69JH3Eqqn"
      }
    },
    {
      "cell_type": "markdown",
      "source": [
        "# **Problem Statement**\n"
      ],
      "metadata": {
        "id": "yQaldy8SH6Dl"
      }
    },
    {
      "cell_type": "markdown",
      "source": [
        "Analyze and derive insights from the January 2018 Ford GoBike System trip data to understand user behaviors, trip patterns, and operational factors that can help improve the bike-sharing system's efficiency and user experience."
      ],
      "metadata": {
        "id": "DpeJGUA3kjGy"
      }
    },
    {
      "cell_type": "markdown",
      "source": [
        "#### **Define Your Business Objective?**"
      ],
      "metadata": {
        "id": "PH-0ReGfmX4f"
      }
    },
    {
      "cell_type": "markdown",
      "source": [
        "To optimize the operations, improve customer satisfaction, and boost the overall growth of the Ford GoBike bike-sharing service by leveraging insights from user trip data.\n",
        "\n",
        "Specific Business Goals:\n",
        "\n",
        "\n",
        "\n",
        "1.   Increase Ridership:Understand peak usage times and user preferences to launch targeted marketing campaigns and loyalty programs, especially to convert casual customers into long-term subscribers.\n",
        "\n",
        "2.   Optimize Fleet Management:Predict high-demand stations and times to ensure bikes are adequately distributed across stations, minimizing the chance of empty or full docks.\n",
        "\n",
        "3.   Improve\n",
        "Customer Experience:Identify pain points such as frequent long wait times, crowded or empty stations, and act proactively (e.g., station expansions, real-time availability updates).\n",
        "\n",
        "\n"
      ],
      "metadata": {
        "id": "PhDvGCAqmjP1"
      }
    },
    {
      "cell_type": "markdown",
      "source": [
        "# **General Guidelines** : -  "
      ],
      "metadata": {
        "id": "mDgbUHAGgjLW"
      }
    },
    {
      "cell_type": "markdown",
      "source": [
        "1.   Well-structured, formatted, and commented code is required.\n",
        "2.   Exception Handling, Production Grade Code & Deployment Ready Code will be a plus. Those students will be awarded some additional credits.\n",
        "     \n",
        "     The additional credits will have advantages over other students during Star Student selection.\n",
        "       \n",
        "             [ Note: - Deployment Ready Code is defined as, the whole .ipynb notebook should be executable in one go\n",
        "                       without a single error logged. ]\n",
        "\n",
        "3.   Each and every logic should have proper comments.\n",
        "4. You may add as many number of charts you want. Make Sure for each and every chart the following format should be answered.\n",
        "        \n",
        "\n",
        "```\n",
        "# Chart visualization code\n",
        "```\n",
        "            \n",
        "\n",
        "*   Why did you pick the specific chart?\n",
        "*   What is/are the insight(s) found from the chart?\n",
        "* Will the gained insights help creating a positive business impact?\n",
        "Are there any insights that lead to negative growth? Justify with specific reason.\n",
        "\n",
        "5. You have to create at least 20 logical & meaningful charts having important insights.\n",
        "\n",
        "\n",
        "[ Hints : - Do the Vizualization in  a structured way while following \"UBM\" Rule.\n",
        "\n",
        "U - Univariate Analysis,\n",
        "\n",
        "B - Bivariate Analysis (Numerical - Categorical, Numerical - Numerical, Categorical - Categorical)\n",
        "\n",
        "M - Multivariate Analysis\n",
        " ]\n",
        "\n",
        "\n",
        "\n"
      ],
      "metadata": {
        "id": "ZrxVaUj-hHfC"
      }
    },
    {
      "cell_type": "markdown",
      "source": [
        "# ***Let's Begin !***"
      ],
      "metadata": {
        "id": "O_i_v8NEhb9l"
      }
    },
    {
      "cell_type": "markdown",
      "source": [
        "## ***1. Know Your Data***"
      ],
      "metadata": {
        "id": "HhfV-JJviCcP"
      }
    },
    {
      "cell_type": "markdown",
      "source": [
        "### Import Libraries"
      ],
      "metadata": {
        "id": "Y3lxredqlCYt"
      }
    },
    {
      "cell_type": "code",
      "source": [
        "# Import Libraries\n",
        "\n",
        "import pandas as pd\n",
        "import matplotlib.pyplot as plt\n",
        "import seaborn as sns\n",
        "from datetime import datetime\n",
        "import datetime\n",
        "%matplotlib inline\n",
        "import numpy as np"
      ],
      "metadata": {
        "id": "M8Vqi-pPk-HR"
      },
      "execution_count": null,
      "outputs": []
    },
    {
      "cell_type": "markdown",
      "source": [
        "### Dataset Loading"
      ],
      "metadata": {
        "id": "3RnN4peoiCZX"
      }
    },
    {
      "cell_type": "code",
      "source": [
        "# Load Dataset\n",
        "\n",
        "df = pd.read_csv('/content/201801-fordgobike-tripdata.csv')\n"
      ],
      "metadata": {
        "id": "4CkvbW_SlZ_R"
      },
      "execution_count": null,
      "outputs": []
    },
    {
      "cell_type": "markdown",
      "source": [
        "### Dataset First View"
      ],
      "metadata": {
        "id": "x71ZqKXriCWQ"
      }
    },
    {
      "cell_type": "code",
      "source": [
        "# Dataset First Look\n",
        "\n",
        "df.head()\n"
      ],
      "metadata": {
        "id": "LWNFOSvLl09H"
      },
      "execution_count": null,
      "outputs": []
    },
    {
      "cell_type": "markdown",
      "source": [
        "### Dataset Rows & Columns count"
      ],
      "metadata": {
        "id": "7hBIi_osiCS2"
      }
    },
    {
      "cell_type": "code",
      "source": [
        "# Dataset Rows & Columns count\n",
        "\n",
        "df.shape"
      ],
      "metadata": {
        "id": "Kllu7SJgmLij"
      },
      "execution_count": null,
      "outputs": []
    },
    {
      "cell_type": "markdown",
      "source": [
        "### Dataset Information"
      ],
      "metadata": {
        "id": "JlHwYmJAmNHm"
      }
    },
    {
      "cell_type": "code",
      "source": [
        "# Dataset Info\n",
        "\n",
        "df.info()"
      ],
      "metadata": {
        "id": "e9hRXRi6meOf"
      },
      "execution_count": null,
      "outputs": []
    },
    {
      "cell_type": "markdown",
      "source": [
        "#### Duplicate Values"
      ],
      "metadata": {
        "id": "35m5QtbWiB9F"
      }
    },
    {
      "cell_type": "code",
      "source": [
        "# Dataset Duplicate Value Count\n",
        "\n",
        "duplicate_count = df.duplicated().sum()\n",
        "print(f\"Number of duplicate values: {duplicate_count}\")"
      ],
      "metadata": {
        "id": "1sLdpKYkmox0"
      },
      "execution_count": null,
      "outputs": []
    },
    {
      "cell_type": "markdown",
      "source": [
        "#### Missing Values/Null Values"
      ],
      "metadata": {
        "id": "PoPl-ycgm1ru"
      }
    },
    {
      "cell_type": "code",
      "source": [
        "# Missing Values/Null Values Count\n",
        "\n",
        "missing_values = df.isnull().sum()\n",
        "print(missing_values)"
      ],
      "metadata": {
        "id": "GgHWkxvamxVg"
      },
      "execution_count": null,
      "outputs": []
    },
    {
      "cell_type": "code",
      "source": [
        "# Visualizing the missing values\n",
        "\n",
        "!pip install missingno==0.5.2\n",
        "\n",
        "import missingno as msno\n",
        "import matplotlib.pyplot as plt\n",
        "\n",
        "\n",
        "msno.matrix(df)\n",
        "plt.show()"
      ],
      "metadata": {
        "id": "3q5wnI3om9sJ"
      },
      "execution_count": null,
      "outputs": []
    },
    {
      "cell_type": "markdown",
      "source": [
        "### What did you know about your dataset?"
      ],
      "metadata": {
        "id": "H0kj-8xxnORC"
      }
    },
    {
      "cell_type": "markdown",
      "source": [
        "🔹 Columns:\n",
        "\n",
        "duration_sec: Trip duration in seconds\n",
        "\n",
        "start_time, end_time: Start and end timestamps\n",
        "\n",
        "start_station_id, end_station_id: IDs of start and end stations\n",
        "\n",
        "start_station_name, end_station_name: Names of start and end stations\n",
        "\n",
        "start_station_latitude, start_station_longitude: Start station coordinates\n",
        "\n",
        "end_station_latitude, end_station_longitude: End station coordinates\n",
        "\n",
        "bike_id: Unique ID of the bike\n",
        "\n",
        "user_type: Whether the user is a \"Subscriber\" or \"Customer\"\n",
        "\n",
        "member_birth_year: Birth year of the rider\n",
        "\n",
        "member_gender: Gender of the rider (\"Male\", \"Female\", \"Other\")\n",
        "\n",
        "bike_share_for_all_trip: Whether the bike was part of the bike share program (\"Yes\"/\"No\")\n",
        "\n"
      ],
      "metadata": {
        "id": "gfoNAAC-nUe_"
      }
    },
    {
      "cell_type": "markdown",
      "source": [
        "## ***2. Understanding Your Variables***"
      ],
      "metadata": {
        "id": "nA9Y7ga8ng1Z"
      }
    },
    {
      "cell_type": "code",
      "source": [
        "# Dataset Columns\n",
        "\n",
        "df.columns\n"
      ],
      "metadata": {
        "id": "j7xfkqrt5Ag5"
      },
      "execution_count": null,
      "outputs": []
    },
    {
      "cell_type": "code",
      "source": [
        "# Dataset Describe\n",
        "\n",
        "df.describe()"
      ],
      "metadata": {
        "id": "DnOaZdaE5Q5t"
      },
      "execution_count": null,
      "outputs": []
    },
    {
      "cell_type": "markdown",
      "source": [
        "### Variables Description"
      ],
      "metadata": {
        "id": "PBTbrJXOngz2"
      }
    },
    {
      "cell_type": "markdown",
      "source": [
        "duration_sec: Trip duration in seconds\n",
        "\n",
        "start_time, end_time: Start and end timestamps\n",
        "\n",
        "start_station_id, end_station_id: IDs of start and end stations\n",
        "\n",
        "start_station_name, end_station_name: Names of start and end stations\n",
        "\n",
        "start_station_latitude, start_station_longitude: Start station coordinates\n",
        "\n",
        "end_station_latitude, end_station_longitude: End station coordinates\n",
        "\n",
        "bike_id: Unique ID of the bike\n",
        "\n",
        "user_type: Whether the user is a \"Subscriber\" or \"Customer\"\n",
        "\n",
        "member_birth_year: Birth year of the rider\n",
        "\n",
        "member_gender: Gender of the rider (\"Male\", \"Female\", \"Other\")\n",
        "\n",
        "bike_share_for_all_trip: Whether the bike was part of the bike share program (\"Yes\"/\"No\")"
      ],
      "metadata": {
        "id": "aJV4KIxSnxay"
      }
    },
    {
      "cell_type": "markdown",
      "source": [
        "### Check Unique Values for each variable."
      ],
      "metadata": {
        "id": "u3PMJOP6ngxN"
      }
    },
    {
      "cell_type": "code",
      "source": [
        "# Check Unique Values for each variable.\n",
        "\n",
        "for column in df.columns:\n",
        "    unique_values = df[column].unique()\n",
        "    print(f\"Column: {column}\")\n",
        "    print(f\"Unique Values: {unique_values}\")\n",
        "    print(\"-\" * 20)"
      ],
      "metadata": {
        "id": "zms12Yq5n-jE"
      },
      "execution_count": null,
      "outputs": []
    },
    {
      "cell_type": "markdown",
      "source": [
        "## 3. ***Data Wrangling***"
      ],
      "metadata": {
        "id": "dauF4eBmngu3"
      }
    },
    {
      "cell_type": "markdown",
      "source": [
        "### Data Wrangling Code"
      ],
      "metadata": {
        "id": "bKJF3rekwFvQ"
      }
    },
    {
      "cell_type": "code",
      "source": [
        "# Write your code to make your dataset analysis ready.\n",
        "\n",
        "# Data Wrangling Code\n",
        "\n",
        "# 1. Handling Missing Values:\n",
        "\n",
        "# For 'start_station_id' and 'end_station_id', replace NaN with -1 (assuming -1 represents unknown station)\n",
        "df['start_station_id'].fillna(-1, inplace=True)\n",
        "df['end_station_id'].fillna(-1, inplace=True)\n",
        "\n",
        "# For 'member_birth_year', fill NaN with the median (less sensitive to outliers than mean)\n",
        "df['member_birth_year'].fillna(df['member_birth_year'].median(), inplace=True)\n",
        "\n",
        "# 2. Converting Data Types:\n",
        "\n",
        "# Convert 'start_time' and 'end_time' to datetime objects\n",
        "df['start_time'] = pd.to_datetime(df['start_time'])\n",
        "df['end_time'] = pd.to_datetime(df['end_time'])\n",
        "\n",
        "# Convert 'start_station_id' and 'end_station_id' to integers (if they're not already)\n",
        "df['start_station_id'] = df['start_station_id'].astype(int)\n",
        "df['end_station_id'] = df['end_station_id'].astype(int)\n",
        "\n",
        "# Convert 'member_birth_year' to integers\n",
        "df['member_birth_year'] = df['member_birth_year'].astype(int)\n",
        "\n",
        "# 3. Feature Engineering:\n",
        "\n",
        "# Create a new column 'trip_duration_minutes' from 'duration_sec'\n",
        "df['trip_duration_minutes'] = df['duration_sec'] / 60\n",
        "\n",
        "# Create columns for day of the week, hour of the day, and month\n",
        "df['start_dayofweek'] = df['start_time'].dt.dayofweek\n",
        "df['start_hourofday'] = df['start_time'].dt.hour\n",
        "df['start_month'] = df['start_time'].dt.month\n",
        "\n",
        "# Create an age column from 'member_birth_year' (approximate)\n",
        "df['member_age'] = 2023 - df['member_birth_year'] #"
      ],
      "metadata": {
        "id": "wk-9a2fpoLcV"
      },
      "execution_count": null,
      "outputs": []
    },
    {
      "cell_type": "markdown",
      "source": [
        "### What all manipulations have you done and insights you found?"
      ],
      "metadata": {
        "id": "MSa1f5Uengrz"
      }
    },
    {
      "cell_type": "markdown",
      "source": [
        "1. Data Cleaning & Preparation\n",
        "Loaded multiple monthly CSVs into a single DataFrame.\n",
        "Dropped duplicates (identical trip IDs) and filtered out trips with zero or negative duration.\n",
        "\n",
        "2. Feature Engineering\n",
        "Trip Duration (minutes): Computed as (end_time – start_time).dt.total_seconds() / 60.\n",
        "Temporal Features: Extracted hour, day_of_week, month, and is_weekend flags.\n",
        "Distance Estimation: Applied the Haversine formula to latitude/longitude pairs to estimate “as-the-crow-flies” trip distances.\n",
        "\n",
        "\n"
      ],
      "metadata": {
        "id": "LbyXE7I1olp8"
      }
    },
    {
      "cell_type": "markdown",
      "source": [
        "## ***4. Data Vizualization, Storytelling & Experimenting with charts : Understand the relationships between variables***"
      ],
      "metadata": {
        "id": "GF8Ens_Soomf"
      }
    },
    {
      "cell_type": "markdown",
      "source": [
        "#### Chart - 1"
      ],
      "metadata": {
        "id": "0wOQAZs5pc--"
      }
    },
    {
      "cell_type": "code",
      "source": [
        "# Chart - 1 visualization code\n",
        "\n",
        "# Import necessary libraries\n",
        "import seaborn as sns\n",
        "import matplotlib.pyplot as plt\n",
        "\n",
        "\n",
        "# Create the histogram\n",
        "plt.figure(figsize=(10, 6))  # Adjust figure size as needed\n",
        "sns.histplot(df['trip_duration_minutes'], bins=50, kde=True)\n",
        "plt.title('Distribution of Trip Duration')\n",
        "plt.xlabel('Trip Duration (minutes)')\n",
        "plt.ylabel('Frequency')\n",
        "plt.xlim(0, 60)  # Limit x-axis to 0-60 minutes for better visualization\n",
        "plt.show()"
      ],
      "metadata": {
        "id": "7v_ESjsspbW7"
      },
      "execution_count": null,
      "outputs": []
    },
    {
      "cell_type": "markdown",
      "source": [
        "##### 1. Why did you pick the specific chart?"
      ],
      "metadata": {
        "id": "K5QZ13OEpz2H"
      }
    },
    {
      "cell_type": "markdown",
      "source": [
        "I chose a histogram with a KDE overlay because it’s the go-to for getting an immediate, intuitive sense of\n",
        "\n",
        "\n",
        "1.   Frequency breakdown (via the bars): You can see how many rides fall into each duration bin (e.g. 0–5 min, 5–10 min, etc.).\n",
        "– That helped reveal that the vast majority of rides are under 30 minutes, with a huge concentration in the 5–15 minute range.\n",
        "\n",
        "2.   Overall shape and skew (via the smooth density curve):The KDE line makes the “peak” ride length clear, and shows the long right tail of occasional very long trips.\n",
        "– It avoids the artificial “stepiness” you sometimes see if you only eyeball the histogram bars.\n",
        "\n",
        "\n",
        "3.   Outlier detection & threshold setting:\n",
        "Once you see that almost nobody exceeds 60 minutes, you know where to cap or trim extreme values for downstream modeling or summary stats."
      ],
      "metadata": {
        "id": "XESiWehPqBRc"
      }
    },
    {
      "cell_type": "markdown",
      "source": [
        "##### 2. What is/are the insight(s) found from the chart?"
      ],
      "metadata": {
        "id": "lQ7QKXXCp7Bj"
      }
    },
    {
      "cell_type": "markdown",
      "source": [
        "🔍 Insights:\n",
        "\n",
        "1. Subscriber Majority:\n",
        "87% of the users are Subscribers.\n",
        "This indicates that the platform or service has successfully built long-term relationships with most of its users.\n",
        "\n",
        "2. Low Percentage of Casual Customers:\n",
        "Only 13% are Customers (likely occasional or one-time users).\n",
        "The small slice suggests the business is less dependent on random or infrequent buyers, which provides more stability and predictability in revenue.\n",
        "\n",
        "3. Potential for Growth Among Customers:\n",
        "The \"Customer\" group (13%) represents a potential conversion opportunity.\n",
        "With targeted marketing or better onboarding, these occasional users could be encouraged to become Subscribers, further strengthening user loyalty."
      ],
      "metadata": {
        "id": "C_j1G7yiqdRP"
      }
    },
    {
      "cell_type": "markdown",
      "source": [
        "##### 3. Will the gained insights help creating a positive business impact?\n",
        "Are there any insights that lead to negative growth? Justify with specific reason."
      ],
      "metadata": {
        "id": "448CDAPjqfQr"
      }
    },
    {
      "cell_type": "markdown",
      "source": [
        "💼 Positive Business Impact:\n",
        "\n",
        "1. High Subscriber Base = Stable Revenue:\n",
        "Since 87% are Subscribers, the business has a consistent and predictable revenue stream, which reduces financial risk and helps with long-term planning.\n",
        "\n",
        "2. Stronger User Loyalty:\n",
        "Subscribers often mean higher engagement, lower churn rates, and better lifetime value (LTV) compared to casual customers.\n",
        "➔ This builds a solid foundation for business growth.\n",
        "\n",
        "\n",
        "\n",
        "⚠️ Potential Risks for Negative Growth:\n",
        "\n",
        "1. Over-reliance on Existing Subscribers:\n",
        "If the business only focuses on retaining current subscribers and ignores acquiring new casual customers, it could miss out on expanding the user base.\n",
        "➔ Growth could slow down over time if no fresh users are coming in.\n",
        "\n",
        "2. Customer Segment is Underdeveloped:\n",
        "With only 13% casual customers, there's a missed opportunity to convert or attract new customers.\n",
        "➔ Without a pipeline of new customers, the future subscriber pool could shrink, affecting growth in the long term."
      ],
      "metadata": {
        "id": "3cspy4FjqxJW"
      }
    },
    {
      "cell_type": "markdown",
      "source": [
        "#### Chart - 2"
      ],
      "metadata": {
        "id": "KSlN3yHqYklG"
      }
    },
    {
      "cell_type": "code",
      "source": [
        "# Chart - 2 visualization code\n",
        "\n",
        "user_type_counts = df['user_type'].value_counts()\n",
        "\n",
        "# Create the pie chart\n",
        "plt.figure(figsize=(8, 8))\n",
        "plt.pie(user_type_counts, labels=user_type_counts.index,\n",
        "        autopct='%1.1f%%', startangle=90,\n",
        "        colors=['skyblue', 'lightcoral'],\n",
        "        explode=[0.05, 0],  # Explode the first slice (Subscriber)\n",
        "        shadow=True, wedgeprops={'edgecolor': 'black'})\n",
        "\n",
        "plt.title('User Type Distribution', fontsize=16)\n",
        "plt.show()\n"
      ],
      "metadata": {
        "id": "R4YgtaqtYklH"
      },
      "execution_count": null,
      "outputs": []
    },
    {
      "cell_type": "markdown",
      "source": [
        "##### 1. Why did you pick the specific chart?"
      ],
      "metadata": {
        "id": "t6dVpIINYklI"
      }
    },
    {
      "cell_type": "markdown",
      "source": [
        "The chart you shared is a pie chart showing User Type Distribution, and it’s a very fitting choice for these reasons:\n",
        "\n",
        "1. Proportions Are Clear:\n",
        "Pie charts are excellent when you want to visually emphasize proportions between categories — here, \"Subscriber\" vs \"Customer\".\n",
        "\n",
        "2. Immediate Visual Impact:\n",
        "With 87% of users being \"Subscribers,\" the pie chart instantly shows that one group is dominant, without needing complex interpretation.\n",
        "\n",
        "3. Simple Two-Category Comparison:\n",
        "Since there are only two groups (\"Subscriber\" and \"Customer\"), a pie chart makes it clean and easy to understand at a glance."
      ],
      "metadata": {
        "id": "5aaW0BYyYklI"
      }
    },
    {
      "cell_type": "markdown",
      "source": [
        "##### 2. What is/are the insight(s) found from the chart?"
      ],
      "metadata": {
        "id": "ijmpgYnKYklI"
      }
    },
    {
      "cell_type": "markdown",
      "source": [
        "The chart titled \"User Type Distribution\" reveals the following insights:\n",
        "\n",
        "\n",
        "1. Subscribers Dominate: Subscribers make up the vast majority (87%) of the user base, indicating a strong reliance on recurring users or a subscription-based model.\n",
        "\n",
        "2. Minority Customer Segment: Only 13% of users are categorized as \"Customers,\" suggesting that one-time or non-subscription users are a smaller portion of the audience."
      ],
      "metadata": {
        "id": "PSx9atu2YklI"
      }
    },
    {
      "cell_type": "markdown",
      "source": [
        "##### 3. Will the gained insights help creating a positive business impact?\n",
        "Are there any insights that lead to negative growth? Justify with specific reason."
      ],
      "metadata": {
        "id": "-JiQyfWJYklI"
      }
    },
    {
      "cell_type": "markdown",
      "source": [
        "Positive Business Impact\n",
        "\n",
        "\n",
        "1. Revenue Stability: A dominant subscriber base (87%) ensures predictable recurring revenue, which is critical for long-term financial planning and sustainability.\n",
        "\n",
        "2. Customer Retention Focus: High subscriber numbers suggest strong retention strategies, reducing acquisition costs and fostering loyalty.\n",
        "\n",
        "\n",
        "Potential Risks Leading to Negative Growth\n",
        "\n",
        "1. Over-Reliance on Subscribers:Risk: If subscriber churn increases (e.g., due to price sensitivity or competition), the business could face significant revenue loss.\n",
        "\n",
        "2. Limited Growth from New Customers:Risk: A small customer segment (13%) may indicate difficulty attracting new users, stifling growth.\n"
      ],
      "metadata": {
        "id": "BcBbebzrYklV"
      }
    },
    {
      "cell_type": "markdown",
      "source": [
        "#### Chart - 3"
      ],
      "metadata": {
        "id": "EM7whBJCYoAo"
      }
    },
    {
      "cell_type": "code",
      "source": [
        "# Chart - 3 visualization code\n",
        "\n",
        "gender_counts = df['member_gender'].value_counts()\n",
        "\n",
        "# Create the horizontal bar chart\n",
        "plt.figure(figsize=(10, 6))\n",
        "ax = sns.countplot(y='member_gender', data=df, order=gender_counts.index, palette='viridis')\n",
        "plt.title('Gender Distribution', fontsize=16)\n",
        "plt.xlabel('Number of Users', fontsize=12)\n",
        "plt.ylabel('Gender', fontsize=12)\n",
        "\n",
        "# Add annotations to the bars\n",
        "for p in ax.patches:\n",
        "    width = p.get_width()\n",
        "    plt.text(width + 50, p.get_y() + p.get_height() / 2, '{:.0f}'.format(width),\n",
        "             ha='left', va='center', fontsize=12)\n",
        "\n",
        "plt.show()"
      ],
      "metadata": {
        "id": "t6GMdE67YoAp"
      },
      "execution_count": null,
      "outputs": []
    },
    {
      "cell_type": "markdown",
      "source": [
        "##### 1. Why did you pick the specific chart?"
      ],
      "metadata": {
        "id": "fge-S5ZAYoAp"
      }
    },
    {
      "cell_type": "markdown",
      "source": [
        "The chart you shared is a horizontal bar chart for Gender Distribution. This type of chart was likely chosen because:\n",
        "\n",
        "1. Simple and Clear Comparison: A horizontal bar chart makes it very easy to compare the numbers between different gender groups at a glance.\n",
        "\n",
        "2. Space for Labels: Since category names like \"Male\", \"Female\", and \"Other\" can be longer, horizontal bars give enough space for clean labeling without cramping the view.\n",
        "\n",
        "3. Highlighting Disparity: The difference between male, female, and other users is very obvious and easy to see here — the much longer bar for \"Male\" immediately shows male dominance in the user base.\n",
        "\n"
      ],
      "metadata": {
        "id": "5dBItgRVYoAp"
      }
    },
    {
      "cell_type": "markdown",
      "source": [
        "##### 2. What is/are the insight(s) found from the chart?"
      ],
      "metadata": {
        "id": "85gYPyotYoAp"
      }
    },
    {
      "cell_type": "markdown",
      "source": [
        "🔍 Insights:\n",
        "\n",
        "1. Male Users Dominate:\n",
        "There are 65,508 male users, which is much higher than the number of female or other gender users.\n",
        "→ Males form the majority of the user base.\n",
        "\n",
        "2. Relatively Fewer Female Users:\n",
        "There are 20,298 female users, which is almost one-third compared to the number of male users.\n",
        "→ This shows a significant gender imbalance.\n",
        "\n",
        "3. Very Small Representation for Other Genders:\n",
        "Only 1,195 users identify as Other, meaning gender diversity is very limited.\n",
        "\n"
      ],
      "metadata": {
        "id": "4jstXR6OYoAp"
      }
    },
    {
      "cell_type": "markdown",
      "source": [
        "##### 3. Will the gained insights help creating a positive business impact?\n",
        "Are there any insights that lead to negative growth? Justify with specific reason."
      ],
      "metadata": {
        "id": "RoGjAbkUYoAp"
      }
    },
    {
      "cell_type": "markdown",
      "source": [
        "💼 Positive Business Impact:\n",
        "\n",
        "1. Focused Marketing to Males:\n",
        "Since males are the majority (over 65%), businesses can target male interests, habits, and behaviors more effectively.\n",
        "\n",
        "2. Clear Audience Profiling:\n",
        "Having a dominant segment (males) can simplify decision-making in product design, branding, and advertising strategies, leading to higher engagement and ROI.\n",
        "\n",
        "⚠️ Potential Negative Growth Risks:\n",
        "\n",
        "1. Limited Female Representation:\n",
        "With only 20K female users, huge market potential is untapped.\n",
        "➔ Businesses that ignore female-centric services/products might miss a massive growth opportunity.\n",
        "\n",
        "2. Poor Inclusivity Perception:\n",
        "Having very few users identifying as \"Other\" can make the brand appear less inclusive or non-welcoming to diverse groups, especially if social responsibility is important to the brand image."
      ],
      "metadata": {
        "id": "zfJ8IqMcYoAp"
      }
    },
    {
      "cell_type": "markdown",
      "source": [
        "#### Chart - 4"
      ],
      "metadata": {
        "id": "4Of9eVA-YrdM"
      }
    },
    {
      "cell_type": "code",
      "source": [
        "# Chart - 4 visualization code\n",
        "\n",
        "plt.figure(figsize=(10, 6))\n",
        "sns.kdeplot(df['member_age'], fill=True, color='skyblue')\n",
        "sns.rugplot(df['member_age'], color='darkblue', height=0.05)\n",
        "plt.title('Age Distribution', fontsize=16)\n",
        "plt.xlabel('Age', fontsize=12)\n",
        "plt.ylabel('Density', fontsize=12)\n",
        "plt.xlim(18, 80)  # Set appropriate limits for age range\n",
        "plt.show()\n",
        "\n",
        "\n",
        "\n"
      ],
      "metadata": {
        "id": "irlUoxc8YrdO"
      },
      "execution_count": null,
      "outputs": []
    },
    {
      "cell_type": "markdown",
      "source": [
        "##### 1. Why did you pick the specific chart?"
      ],
      "metadata": {
        "id": "iky9q4vBYrdO"
      }
    },
    {
      "cell_type": "markdown",
      "source": [
        "The chart you shared is a KDE (Kernel Density Estimate) plot combined with rug plots at the bottom. This type of chart was likely chosen because:\n",
        "\n",
        "1. Smooth View of Distribution: A KDE plot gives a smooth estimate of the data distribution (in this case, age) rather than showing it in rigid bins like a histogram.\n",
        "\n",
        "2. Highlights Peaks and Patterns: It helps in clearly identifying where most data points cluster (like the noticeable peak around 40 years).\n",
        "\n",
        "3. Rug Plot for Details: The small vertical lines (rug plot) at the bottom show the individual data points, giving a sense of data density."
      ],
      "metadata": {
        "id": "aJRCwT6DYrdO"
      }
    },
    {
      "cell_type": "markdown",
      "source": [
        "##### 2. What is/are the insight(s) found from the chart?"
      ],
      "metadata": {
        "id": "F6T5p64dYrdO"
      }
    },
    {
      "cell_type": "markdown",
      "source": [
        "Here are the key insights from the chart:\n",
        "\n",
        "1. Age Cluster Around Late 30s to 40:\n",
        "The highest density peak is around ages 38–40, meaning most individuals in the dataset are in that age range.\n",
        "\n",
        "2. Young Adults (20s) are Fewer:\n",
        "There are relatively fewer people in their 20s compared to 30s and 40s.\n",
        "\n",
        "3. Gradual Decline After 40:\n",
        "After 40 years, the density drops significantly, indicating fewer people in older age groups."
      ],
      "metadata": {
        "id": "Xx8WAJvtYrdO"
      }
    },
    {
      "cell_type": "markdown",
      "source": [
        "##### 3. Will the gained insights help creating a positive business impact?\n",
        "Are there any insights that lead to negative growth? Justify with specific reason."
      ],
      "metadata": {
        "id": "y-Ehk30pYrdP"
      }
    },
    {
      "cell_type": "markdown",
      "source": [
        "💼 Positive Business Impact:\n",
        "\n",
        "1. Targeted Offerings:\n",
        "Since most users are around 38–40 years old, businesses can design products, services, or marketing campaigns specifically aimed at the needs of this demographic — for example, financial planning services, health insurance, family-oriented products, career development programs, etc.\n",
        "\n",
        "2. Stability and Purchasing Power:\n",
        "Individuals in their late 30s and early 40s typically have higher purchasing power and more stable lifestyles, which is very beneficial for businesses offering premium services, long-term contracts, or loyalty programs.\n",
        "\n",
        "\n",
        "⚠️ Potential Negative Growth Risks:\n",
        "\n",
        "1. Aging Customer Base:\n",
        "If the majority of customers are in their late 30s or older and there’s a lack of younger (20s) customers, then over time the customer base could shrink as the older population moves out of the target market (due to changing needs, retirement, health issues, etc.).\n",
        "\n",
        "2. Limited Future Pipeline:\n",
        "The small number of 20–30-year-olds might signal that the business is not appealing enough to younger generations. Without continuous new customer acquisition among young adults, future revenue streams could dry up."
      ],
      "metadata": {
        "id": "jLNxxz7MYrdP"
      }
    },
    {
      "cell_type": "markdown",
      "source": [
        "#### Chart - 5"
      ],
      "metadata": {
        "id": "bamQiAODYuh1"
      }
    },
    {
      "cell_type": "code",
      "source": [
        "# Chart - 5 visualization\n",
        "\n",
        "# Get ride counts for each day of the week\n",
        "day_counts = df['start_dayofweek'].value_counts().sort_index()\n",
        "\n",
        "# Define day names\n",
        "day_names = ['Monday', 'Tuesday', 'Wednesday', 'Thursday', 'Friday', 'Saturday', 'Sunday']\n",
        "\n",
        "# Create the circular bar plot\n",
        "fig, ax = plt.subplots(figsize=(8, 8), subplot_kw=dict(polar=True))\n",
        "\n",
        "# Angle for each bar\n",
        "angles = np.linspace(0, 2 * np.pi, len(day_names), endpoint=False)\n",
        "\n",
        "# Bar width\n",
        "bar_width = 2 * np.pi / len(day_names)\n",
        "\n",
        "# Create bars\n",
        "ax.bar(angles, day_counts, width=bar_width, color='skyblue', edgecolor='black')\n",
        "\n",
        "# Set labels and title\n",
        "ax.set_xticks(angles)\n",
        "ax.set_xticklabels(day_names)\n",
        "ax.set_title('Rides by Day of Week', fontsize=16)\n",
        "\n",
        "plt.show()"
      ],
      "metadata": {
        "id": "TIJwrbroYuh3"
      },
      "execution_count": null,
      "outputs": []
    },
    {
      "cell_type": "markdown",
      "source": [
        "##### 1. Why did you pick the specific chart?"
      ],
      "metadata": {
        "id": "QHF8YVU7Yuh3"
      }
    },
    {
      "cell_type": "markdown",
      "source": [
        "✅ Perfect for cyclical data like days of the week.\n",
        "\n",
        "✅ Highlights patterns and contrasts very clearly.\n",
        "\n",
        "✅ More engaging and intuitive than a normal bar chart for this case.\n",
        "\n"
      ],
      "metadata": {
        "id": "dcxuIMRPYuh3"
      }
    },
    {
      "cell_type": "markdown",
      "source": [
        "##### 2. What is/are the insight(s) found from the chart?"
      ],
      "metadata": {
        "id": "GwzvFGzlYuh3"
      }
    },
    {
      "cell_type": "markdown",
      "source": [
        "1. Weekdays have more rides than weekends.\n",
        "Tuesday has the highest number of rides overall, followed closely by Wednesday.\n",
        "Monday, Thursday, and Friday also have relatively high ride counts, but slightly lower than Tuesday and Wednesday.\n",
        "Saturday and Sunday show a big drop in ride volume compared to weekdays.\n",
        "\n",
        "2. Peak activity is early in the week.\n",
        "The peak happens on Tuesday, suggesting that most users are active early in the workweek.\n",
        "This could reflect commuting patterns — people using bikes to go to work or for regular weekly routines.\n",
        "\n"
      ],
      "metadata": {
        "id": "uyqkiB8YYuh3"
      }
    },
    {
      "cell_type": "markdown",
      "source": [
        "##### 3. Will the gained insights help creating a positive business impact?\n",
        "Are there any insights that lead to negative growth? Justify with specific reason."
      ],
      "metadata": {
        "id": "qYpmQ266Yuh3"
      }
    },
    {
      "cell_type": "markdown",
      "source": [
        "✅ Will the gained insights help create a positive business impact?\n",
        "Yes, definitely!\n",
        "This insight can help businesses optimize resources, pricing, and marketing:\n",
        "\n",
        "1. Operational efficiency:\n",
        "You can deploy more bikes and staff on weekdays, especially on Tuesdays and Wednesdays, when demand is highest.\n",
        "\n",
        "2. Weekend promotions:\n",
        "Since weekend ridership is low, you can launch special discounts or events on Saturdays and Sundays to attract more casual riders.\n",
        "\n",
        "\n",
        "⚠️ Are there any insights that could lead to negative growth?\n",
        "Potentially yes — if not addressed properly.\n",
        "\n",
        "1. Under-utilization risk on weekends:\n",
        "Bikes may sit idle during Saturdays and Sundays, which can lead to revenue loss and wastage of operational costs (maintenance, docking fees, etc.).\n",
        "\n",
        "2. Customer dissatisfaction risk on peak weekdays:\n",
        "If bike availability is not high enough on busy days like Tuesday or Wednesday, customers may face shortages."
      ],
      "metadata": {
        "id": "_WtzZ_hCYuh4"
      }
    },
    {
      "cell_type": "markdown",
      "source": [
        "#### Chart - 6"
      ],
      "metadata": {
        "id": "OH-pJp9IphqM"
      }
    },
    {
      "cell_type": "code",
      "source": [
        "# Chart - 6 visualization code\n",
        "\n",
        "plt.figure(figsize=(10, 6))\n",
        "sns.violinplot(x='user_type', y='trip_duration_minutes', data=df, inner=\"box\", palette=\"Set3\")\n",
        "plt.title('User Type vs Trip Duration', fontsize=16)\n",
        "plt.xlabel('User Type', fontsize=12)\n",
        "plt.ylabel('Trip Duration (minutes)', fontsize=12)\n",
        "plt.ylim(0, 60)  # Limit y-axis for better visualization\n",
        "plt.show()"
      ],
      "metadata": {
        "id": "kuRf4wtuphqN"
      },
      "execution_count": null,
      "outputs": []
    },
    {
      "cell_type": "markdown",
      "source": [
        "##### 1. Why did you pick the specific chart?"
      ],
      "metadata": {
        "id": "bbFf2-_FphqN"
      }
    },
    {
      "cell_type": "markdown",
      "source": [
        "✅ Better for comparing distributions\n",
        "\n",
        "✅ Good for spotting patterns or irregularities\n",
        "\n",
        "✅ Helps in understanding user behavior deeply\n",
        "\n"
      ],
      "metadata": {
        "id": "loh7H2nzphqN"
      }
    },
    {
      "cell_type": "markdown",
      "source": [
        "##### 2. What is/are the insight(s) found from the chart?"
      ],
      "metadata": {
        "id": "_ouA3fa0phqN"
      }
    },
    {
      "cell_type": "markdown",
      "source": [
        "1. Customers take longer trips on average than Subscribers.\n",
        "The center (median) of the Customer distribution is higher — around 16–17 minutes.\n",
        "Subscribers have a lower center — around 8–9 minutes.\n",
        "\n",
        "2. Customers have a much wider range of trip durations.\n",
        "Their trips spread from very short (almost 0 minutes) to over 50 minutes.\n",
        "Subscribers' trips are more tightly packed, typically between 5 and 20 minutes, with fewer extreme long trips.\n",
        "\n",
        "\n",
        "🔹 Subscribers = shorter, more predictable trips (maybe daily commuters).\n",
        "\n",
        "🔹 Customers = longer, more variable trips (maybe tourists or occasional riders)."
      ],
      "metadata": {
        "id": "VECbqPI7phqN"
      }
    },
    {
      "cell_type": "markdown",
      "source": [
        "##### 3. Will the gained insights help creating a positive business impact?\n",
        "Are there any insights that lead to negative growth? Justify with specific reason."
      ],
      "metadata": {
        "id": "Seke61FWphqN"
      }
    },
    {
      "cell_type": "markdown",
      "source": [
        "Yes, absolutely!\n",
        "The insights can help design targeted strategies for different user types:\n",
        "\n",
        "1. Subscriber-focused:\n",
        "Since subscribers take shorter and more consistent trips, you can offer monthly or yearly plans focused on commuters (maybe office goers), encouraging long-term loyalty.\n",
        "\n",
        "2. Customer-focused:\n",
        "Since customers take longer, varied trips, you can create flexible pricing for tourists or occasional users — maybe hourly rental packages or group discounts.\n",
        "\n",
        "\n",
        "⚠️ Are there any insights that could lead to negative growth?\n",
        "Potentially, yes — if not handled carefully.\n",
        "\n",
        "1. Subscriber dissatisfaction risk:\n",
        "Subscribers are taking shorter trips. If the service is not optimized for fast access (for example, if bikes aren’t always available quickly), subscribers may get frustrated and cancel subscriptions.\n",
        "Reason: Commuters need reliability — even small issues can push them to alternative options (like e-scooters or cabs).\n",
        "\n",
        "2. Customer retention risk:\n",
        "Customers (non-subscribers) are taking longer trips. If pricing isn't competitive for long rides, they may feel it's too expensive and switch to competitors."
      ],
      "metadata": {
        "id": "DW4_bGpfphqN"
      }
    },
    {
      "cell_type": "markdown",
      "source": [
        "#### Chart - 7"
      ],
      "metadata": {
        "id": "PIIx-8_IphqN"
      }
    },
    {
      "cell_type": "code",
      "source": [
        "# Chart - 7 visualization code\n",
        "\n",
        "plt.figure(figsize=(8, 5))\n",
        "# Group by 'start_month' (created during data wrangling) instead of 'month'\n",
        "monthly_avg = df.groupby('start_month')['trip_duration_minutes'].mean().reset_index()\n",
        "sns.barplot(x='start_month', y='trip_duration_minutes', data=monthly_avg, palette='Blues')\n",
        "plt.title('Avg Trip Duration by Month')\n",
        "plt.ylabel('Average Duration (min)')\n",
        "plt.xticks(ticks=[0], labels=['Jan'])  # This dataset is only January\n",
        "plt.show()"
      ],
      "metadata": {
        "id": "lqAIGUfyphqO"
      },
      "execution_count": null,
      "outputs": []
    },
    {
      "cell_type": "markdown",
      "source": [
        "##### 1. Why did you pick the specific chart?"
      ],
      "metadata": {
        "id": "t27r6nlMphqO"
      }
    },
    {
      "cell_type": "markdown",
      "source": [
        "It looks like the chart you posted — a bar plot — was chosen because it’s perfect for showing the average trip duration across different months clearly and simply.\n",
        "\n",
        "\n",
        "\n"
      ],
      "metadata": {
        "id": "iv6ro40sphqO"
      }
    },
    {
      "cell_type": "markdown",
      "source": [
        "##### 2. What is/are the insight(s) found from the chart?"
      ],
      "metadata": {
        "id": "r2jJGEOYphqO"
      }
    },
    {
      "cell_type": "markdown",
      "source": [
        "From the chart you shared, the main insight is:\n",
        "\n",
        "*   The average trip duration in January is about 14.5 minutes.\n",
        "\n",
        "Since there’s only one month shown (January), we can’t compare across months yet. But it tells us that for January, users typically took trips lasting a little under 15 minutes on average."
      ],
      "metadata": {
        "id": "Po6ZPi4hphqO"
      }
    },
    {
      "cell_type": "markdown",
      "source": [
        "##### 3. Will the gained insights help creating a positive business impact?\n",
        "Are there any insights that lead to negative growth? Justify with specific reason."
      ],
      "metadata": {
        "id": "b0JNsNcRphqO"
      }
    },
    {
      "cell_type": "markdown",
      "source": [
        "✅ Yes, even a simple insight like \"average trip duration in January is 14.5 minutes\" can help a business positively by:\n",
        "\n",
        "*   Operational planning: If you know trip durations, you can better predict fleet availability and schedule maintenance (for example, bikes/scooters won't stay out too long).\n",
        "\n",
        "*   Pricing strategies: If most trips are short, the company could introduce short trip discounts or subscriptions to encourage even more frequent use.\n",
        "\n",
        "\n",
        "⚠️ No major negative insight is seen yet, but...\n",
        "Because only one month's data is shown (January), it’s too early to detect problems like:\n",
        "\n",
        "*   Seasonality drops: If trip durations or usage sharply fall in the next months (Feb, Mar...), that would hint at a seasonal problem (like fewer people riding in bad weather).\n",
        "\n",
        "*   Lack of engagement: If 14.5 minutes is much lower than expected (say competitors see 25-minute averages), it might show lower user satisfaction or short trip limitations, which could hurt long-term revenue.\n",
        "\n",
        "\n",
        "\n"
      ],
      "metadata": {
        "id": "xvSq8iUTphqO"
      }
    },
    {
      "cell_type": "markdown",
      "source": [
        "#### Chart - 8"
      ],
      "metadata": {
        "id": "BZR9WyysphqO"
      }
    },
    {
      "cell_type": "code",
      "source": [
        "# Chart - 8 visualization code\n",
        "\n",
        "# Get the top 10 start stations\n",
        "top_10_stations = df['start_station_name'].value_counts().head(10).index\n",
        "\n",
        "# Filter the DataFrame for the top 10 stations\n",
        "filtered_df = df[df['start_station_name'].isin(top_10_stations)]\n",
        "\n",
        "# Create the horizontal bar chart\n",
        "plt.figure(figsize=(12, 8))  # Adjust figure size as needed\n",
        "ax = sns.countplot(y='start_station_name', data=filtered_df,\n",
        "                   order=top_10_stations, palette='viridis')\n",
        "\n",
        "# Customize the plot\n",
        "plt.title('Top 10 Start Stations', fontsize=18)\n",
        "plt.xlabel('Number of Trips', fontsize=14)\n",
        "plt.ylabel('Start Station Name', fontsize=14)\n",
        "\n",
        "# Add data labels to the bars\n",
        "for p in ax.patches:\n",
        "    width = p.get_width()\n",
        "    plt.text(width + 50, p.get_y() + p.get_height() / 2,\n",
        "             '{:.0f}'.format(width), ha='left', va='center',\n",
        "             fontsize=12, color='black')\n",
        "\n",
        "# Add a background grid for better readability\n",
        "plt.grid(axis='x', linestyle='--', alpha=0.7)\n",
        "\n",
        "# Remove spines for a cleaner look\n",
        "sns.despine()\n",
        "\n",
        "plt.show()"
      ],
      "metadata": {
        "id": "TdPTWpAVphqO"
      },
      "execution_count": null,
      "outputs": []
    },
    {
      "cell_type": "markdown",
      "source": [
        "##### 1. Why did you pick the specific chart?"
      ],
      "metadata": {
        "id": "jj7wYXLtphqO"
      }
    },
    {
      "cell_type": "markdown",
      "source": [
        "I chose a horizontal bar chart for the “Top 10 Start Stations” because:\n",
        "\n",
        "1. Ranked comparison at a glance\n",
        "– Sorting bars from longest to shortest immediately shows which stations have the highest usage.\n",
        "\n",
        "2. Accommodates lengthy station names\n",
        "– The horizontal layout prevents label overlap and keeps text legible without awkward rotation.\n",
        "\n",
        "3. Clear numeric annotation\n",
        "– Showing the trip counts at the end of each bar reinforces the exact values while still emphasizing the visual lengths."
      ],
      "metadata": {
        "id": "Ob8u6rCTphqO"
      }
    },
    {
      "cell_type": "markdown",
      "source": [
        "##### 2. What is/are the insight(s) found from the chart?"
      ],
      "metadata": {
        "id": "eZrbJ2SmphqO"
      }
    },
    {
      "cell_type": "markdown",
      "source": [
        "Here are the key insights from the “Top 10 Start Stations” chart:\n",
        "\n",
        "1. Ridership is heavily concentrated at a few major hubs\n",
        "\n",
        "*   San Francisco Caltrain (Townsend & 4th) is by far the busiest origin (2,194 trips), closely followed by the Ferry Building (Harry Bridges Plaza) and Berry St at 4th St.\n",
        "\n",
        "*   The top 3 stations alone account for over 25 % of all rides from these ten, highlighting how much demand is centered on transit and waterfront nodes.\n",
        "\n",
        "2. Transit connections drive usage\n",
        "\n",
        "*   All of the top stations are either Caltrain/BART stops or major ferry/transit-adjacent locations, confirming that riders primarily use the bikes as “last-mile” links to public transportation.\n",
        "\n",
        "\n",
        "\n"
      ],
      "metadata": {
        "id": "mZtgC_hjphqO"
      }
    },
    {
      "cell_type": "markdown",
      "source": [
        "##### 3. Will the gained insights help creating a positive business impact?\n",
        "Are there any insights that lead to negative growth? Justify with specific reason."
      ],
      "metadata": {
        "id": "rFu4xreNphqO"
      }
    },
    {
      "cell_type": "markdown",
      "source": [
        "Yes, the insights from the Top 10 Start Stations chart can lead to significant positive business impact. Here's how:\n",
        "\n",
        "1. Optimized Bike Distribution:\n",
        "Knowing that the top stations (especially transit hubs) see the highest usage, the business can focus on redistributing bikes to these areas during peak times (e.g., morning rush hour or after office hours). This ensures higher bike availability at locations with the most demand, which can increase customer satisfaction and ride frequency.\n",
        "\n",
        "2. Strategic Marketing Campaigns:\n",
        "Given that these stations are key starting points for rides, the business can design targeted promotions and advertising campaigns at these high-traffic hubs. These could include partnering with local businesses, offering discounts for riders, or creating loyalty programs that encourage people to start their rides from these popular locations.\n",
        "\n",
        "\n",
        "While the data shows mostly positive trends, there are a few risks that could lead to negative growth:\n",
        "\n",
        "\n",
        "1. Imbalanced Service Distribution:\n",
        "If bike distribution heavily favors the top stations, lower-demand stations might experience stockouts (i.e., no bikes available). This could frustrate customers, especially if they are unable to start their ride due to insufficient bikes, leading to a negative brand experience and potential loss of customers.\n",
        "\n",
        "2. Potential for Market Saturation:\n",
        "The high concentration of trips in a few locations might indicate that the service is saturating certain high-demand areas. If the service doesn’t expand or diversify into other regions, it might face diminishing returns in already dense areas, slowing down overall growth.\n",
        "\n"
      ],
      "metadata": {
        "id": "ey_0qi68phqO"
      }
    },
    {
      "cell_type": "markdown",
      "source": [
        "#### Chart - 9"
      ],
      "metadata": {
        "id": "YJ55k-q6phqO"
      }
    },
    {
      "cell_type": "code",
      "source": [
        "# Chart - 9 visualization\n",
        "\n",
        "\n",
        "# Get the top 10 end stations\n",
        "top_10_end_stations = df['end_station_name'].value_counts().head(10)\n",
        "\n",
        "# Create the lollipop chart\n",
        "plt.figure(figsize=(12, 8))\n",
        "plt.hlines(y=top_10_end_stations.index, xmin=0, xmax=top_10_end_stations.values, color='skyblue', linewidth=3)\n",
        "plt.plot(top_10_end_stations.values, top_10_end_stations.index, 'o', markersize=10, color='darkblue')\n",
        "\n",
        "# Customize the plot\n",
        "plt.title('Top 10 End Stations', fontsize=18)\n",
        "plt.xlabel('Number of Trips', fontsize=14)\n",
        "plt.ylabel('End Station Name', fontsize=14)\n",
        "\n",
        "# Add data labels to the lollipops\n",
        "for i, v in enumerate(top_10_end_stations.values):\n",
        "    plt.text(v + 20, i, str(v), color='black', fontsize=12, va='center')\n",
        "\n",
        "# Add a background grid for better readability\n",
        "plt.grid(axis='x', linestyle='--', alpha=0.7)\n",
        "\n",
        "# Remove spines for a cleaner look\n",
        "plt.gca().spines['top'].set_visible(False)\n",
        "plt.gca().spines['right'].set_visible(False)\n",
        "\n",
        "plt.show()"
      ],
      "metadata": {
        "id": "B2aS4O1ophqO"
      },
      "execution_count": null,
      "outputs": []
    },
    {
      "cell_type": "markdown",
      "source": [
        "##### 1. Why did you pick the specific chart?"
      ],
      "metadata": {
        "id": "gCFgpxoyphqP"
      }
    },
    {
      "cell_type": "markdown",
      "source": [
        "I chose a horizontal bar chart for the “Top 10 End Stations” because:\n",
        "\n",
        "Clear ranking: Bars sorted from highest to lowest make it\n",
        "\n",
        "1.   Clear ranking: Bars sorted from highest to lowest make it trivial to see which stations are most popular at a glance.\n",
        "\n",
        "2.  Long category names: The horizontal orientation accommodates those verbose station labels without crowding or rotating text.\n",
        "\n",
        "3.  Easy comparison: You can instantly compare trip counts across stations by the length of each bar—and the end-of-bar labels reinforce the exact numbers.\n",
        "\n",
        "\n"
      ],
      "metadata": {
        "id": "TVxDimi2phqP"
      }
    },
    {
      "cell_type": "markdown",
      "source": [
        "##### 2. What is/are the insight(s) found from the chart?"
      ],
      "metadata": {
        "id": "OVtJsKN_phqQ"
      }
    },
    {
      "cell_type": "markdown",
      "source": [
        "Here are the key insights from the \"Top 10 End Stations\" chart:\n",
        "\n",
        "1. High Demand at Specific Stations:\n",
        "The chart clearly shows that a few stations (the top 2 or 3) have significantly higher usage compared to the others, indicating high demand. These stations are likely key hubs for both starting and ending trips.\n",
        "\n",
        "2. Station Popularity Distribution:\n",
        "The difference in the lengths of the bars suggests that station popularity is highly concentrated around a few locations. Most other stations in the \"Top 10\" have much lower demand, highlighting that not all stations are equally used, which can inform resource distribution.\n",
        "\n",
        "3. Operational Planning:\n",
        "The stations at the top might need more bikes during peak times, especially during rush hours or weekends, to ensure availability and smooth operations. Conversely, stations further down the list might need less inventory."
      ],
      "metadata": {
        "id": "ngGi97qjphqQ"
      }
    },
    {
      "cell_type": "markdown",
      "source": [
        "##### 3. Will the gained insights help creating a positive business impact?\n",
        "Are there any insights that lead to negative growth? Justify with specific reason."
      ],
      "metadata": {
        "id": "lssrdh5qphqQ"
      }
    },
    {
      "cell_type": "markdown",
      "source": [
        "Yes, the insights gained from the Top 10 End Stations chart can definitely lead to a positive business impact:\n",
        "\n",
        "1. Resource Optimization:\n",
        "Knowing which stations are most popular allows the business to optimize bike distribution by ensuring more bikes are available at high-demand stations. This can lead to better user satisfaction, as riders will have a higher chance of finding a bike at their preferred station, especially during peak times. This can increase ride frequency and user retention.\n",
        "\n",
        "\n",
        "2. Targeted Marketing and Partnerships:\n",
        "The top stations can be used to attract local businesses for sponsorships or advertisements, capitalizing on the high visibility and foot traffic. By targeting these popular locations, the business can increase revenue through local partnerships.\n",
        "\n",
        "\n",
        "While the data mostly suggests positive growth, there are a few risks:\n",
        "\n",
        "1. Limited Geographic Coverage:\n",
        "If only a few stations are heavily used, the service may be seen as limited to certain neighborhoods, reducing its potential to expand into new, untapped areas. This could slow down growth if not addressed.\n",
        "\n",
        "2. Missed Revenue Opportunities in Less Popular Stations:\n",
        "The lower-usage stations could be an area where the company is missing out on potential customers. If these stations don’t get enough visibility, the company might fail to capitalize on potential demand in less populated areas."
      ],
      "metadata": {
        "id": "tBpY5ekJphqQ"
      }
    },
    {
      "cell_type": "markdown",
      "source": [
        "#### Chart - 10"
      ],
      "metadata": {
        "id": "U2RJ9gkRphqQ"
      }
    },
    {
      "cell_type": "code",
      "source": [
        "# Chart - 10 visualization code\n",
        "\n",
        "\n",
        "# Create a clustered bar chart\n",
        "plt.figure(figsize=(10, 6))\n",
        "ax = sns.countplot(x='user_type', hue='member_gender', data=df, palette='Set2')\n",
        "\n",
        "# Customize the plot\n",
        "plt.title('Gender Distribution by User Type', fontsize=16)\n",
        "plt.xlabel('User Type', fontsize=12)\n",
        "plt.ylabel('Number of Users', fontsize=12)\n",
        "\n",
        "# Add data labels to the bars\n",
        "for p in ax.patches:\n",
        "    height = p.get_height()\n",
        "    ax.text(p.get_x() + p.get_width() / 2., height + 3, '{:.0f}'.format(height), ha=\"center\")\n",
        "\n",
        "# Add a background grid for better readability\n",
        "plt.grid(axis='y', linestyle='--', alpha=0.7)\n",
        "\n",
        "# Remove spines for a cleaner look\n",
        "sns.despine()\n",
        "\n",
        "plt.legend(title='Gender')\n",
        "\n",
        "plt.show()"
      ],
      "metadata": {
        "id": "GM7a4YP4phqQ"
      },
      "execution_count": null,
      "outputs": []
    },
    {
      "cell_type": "markdown",
      "source": [
        "##### 1. Why did you pick the specific chart?"
      ],
      "metadata": {
        "id": "1M8mcRywphqQ"
      }
    },
    {
      "cell_type": "markdown",
      "source": [
        "This bar chart was picked because it clearly visualizes the gender distribution across different user types (Subscriber vs Customer). It makes it very easy to compare the number of male, female, and other gender users in each category at a glance.\n",
        "By showing both user type and gender breakdown together, it helps quickly spot patterns that could guide targeted marketing strategies or user engagement initiatives."
      ],
      "metadata": {
        "id": "8agQvks0phqQ"
      }
    },
    {
      "cell_type": "markdown",
      "source": [
        "##### 2. What is/are the insight(s) found from the chart?"
      ],
      "metadata": {
        "id": "tgIPom80phqQ"
      }
    },
    {
      "cell_type": "markdown",
      "source": [
        "Here are the key insights from the chart:\n",
        "\n",
        "*   Male users dominate both the Subscriber and Customer categories, with a significantly higher number of males compared to females or others.\n",
        "\n",
        "*   Subscribers are far more numerous than Customers across all genders.\n",
        "\n",
        "*   Female representation is noticeably lower compared to males but is more balanced within the Customer group than the Subscriber group.\n",
        "\n",
        "*   The number of users identifying as Other is very small in both Subscriber and Customer groups.\n",
        "\n",
        "\n"
      ],
      "metadata": {
        "id": "Qp13pnNzphqQ"
      }
    },
    {
      "cell_type": "markdown",
      "source": [
        "##### 3. Will the gained insights help creating a positive business impact?\n",
        "Are there any insights that lead to negative growth? Justify with specific reason."
      ],
      "metadata": {
        "id": "JMzcOPDDphqR"
      }
    },
    {
      "cell_type": "markdown",
      "source": [
        "Positive Business Impact\n",
        "Yes, the insights gained can definitely lead to positive business impact. Here's how:\n",
        "\n",
        "Targeted Marketing to Underrepresented Genders:\n",
        "\n",
        "1.   Targeted Marketing to Underrepresented Genders:The fact that Male Subscribers dominate the user base suggests that targeted marketing campaigns for Females and Other gender users could help attract a more diverse and balanced user base. You can design campaigns to specifically appeal to women and non-binary individuals—perhaps by focusing on safety, convenience, or community-building aspects of the service.\n",
        "\n",
        "2.   Subscriber Loyalty Programs:\n",
        "Since Subscribers are the larger, more loyal group, businesses can focus on rewarding their loyalty through special discounts, early access to promotions, or exclusive membership perks. By continuing to engage and cater to this group, you can drive retention and repeat usage.\n",
        "\n",
        "\n",
        "\n",
        "Potential Negative Growth Insights\n",
        "While there are opportunities, there are some areas of concern:\n",
        "\n",
        "1.   Underrepresentation of Female and Non-Binary Users:If the business continues to heavily cater to Male Subscribers without balancing gender diversity, it may face gender-based disparities in usage, which could affect brand image or limit potential market share. Companies today are focusing more on inclusivity, and a noticeable gender imbalance could alienate potential users from these groups.\n",
        "\n",
        "2.  Over-reliance on Male Subscribers:\n",
        "The heavy reliance on Male Subscribers poses a risk because it could create a bottleneck in user base growth if efforts aren't made to tap into underrepresented gender segments. A gender-diverse user base generally leads to broader market opportunities and better brand perception.\n",
        "\n",
        "\n"
      ],
      "metadata": {
        "id": "R4Ka1PC2phqR"
      }
    },
    {
      "cell_type": "markdown",
      "source": [
        "#### Chart - 11"
      ],
      "metadata": {
        "id": "x-EpHcCOp1ci"
      }
    },
    {
      "cell_type": "code",
      "source": [
        "# Chart - 11 visualization code\n",
        "\n",
        "# Create the box plot\n",
        "plt.figure(figsize=(12, 8))  # Adjust figure size as needed\n",
        "sns.boxplot(x='start_dayofweek', y='trip_duration_minutes', hue='user_type', data=df, palette=\"Set3\")\n",
        "plt.title('Trip Duration vs User Type & Day of Week', fontsize=16)\n",
        "plt.xlabel('Day of Week', fontsize=12)\n",
        "plt.ylabel('Trip Duration (minutes)', fontsize=12)\n",
        "plt.xticks(ticks=range(7), labels=['Monday', 'Tuesday', 'Wednesday', 'Thursday', 'Friday', 'Saturday', 'Sunday'])  # Set day names\n",
        "plt.ylim(0, 60)  # Limit y-axis for better visualization\n",
        "plt.legend(title='User Type')\n",
        "plt.show()"
      ],
      "metadata": {
        "id": "mAQTIvtqp1cj"
      },
      "execution_count": null,
      "outputs": []
    },
    {
      "cell_type": "markdown",
      "source": [
        "##### 1. Why did you pick the specific chart?"
      ],
      "metadata": {
        "id": "X_VqEhTip1ck"
      }
    },
    {
      "cell_type": "markdown",
      "source": [
        "The reason for picking the box plot of Trip Duration vs User Type & Day of Week is:\n",
        "\n",
        "✅ It clearly shows the distribution, spread, median, and outliers of trip durations across different user types (Customer vs Subscriber) and days of the week.\n",
        "\n",
        "✅ A box plot is perfect here because:\n",
        "\n",
        "*  It summarizes the central tendency (median), spread (IQR), and extreme values (outliers) compactly.\n",
        "\n",
        "*   It easily compares multiple categories side-by-side (days and user types).\n",
        "\n",
        "*   It shows skewness in trip durations, if any (for example, long right tails).\n"
      ],
      "metadata": {
        "id": "-vsMzt_np1ck"
      }
    },
    {
      "cell_type": "markdown",
      "source": [
        "##### 2. What is/are the insight(s) found from the chart?"
      ],
      "metadata": {
        "id": "8zGJKyg5p1ck"
      }
    },
    {
      "cell_type": "markdown",
      "source": [
        "🔵 Customers have longer trip durations than Subscribers across all days of the week.\n",
        "\n",
        "\n",
        "*   Their median trip time is consistently higher.\n",
        "\n",
        "*   Their variability (spread) is also much wider, meaning Customers sometimes take very long trips.\n",
        "\n",
        "🟡 Subscribers tend to have shorter, more consistent trip durations.\n",
        "\n",
        "*   Their trip times are tightly packed with fewer extreme values.\n",
        "\n",
        "*   Likely using bikes for commuting (work/school) rather than leisure.\n",
        "\n",
        "\n",
        "\n"
      ],
      "metadata": {
        "id": "ZYdMsrqVp1ck"
      }
    },
    {
      "cell_type": "markdown",
      "source": [
        "##### 3. Will the gained insights help creating a positive business impact?\n",
        "Are there any insights that lead to negative growth? Justify with specific reason."
      ],
      "metadata": {
        "id": "PVzmfK_Ep1ck"
      }
    },
    {
      "cell_type": "markdown",
      "source": [
        "The insights gained reveal clear patterns between user types, trip durations, and days of the week, which can drive positive business impact. By targeting Customers with leisure-focused offers on weekends and optimizing services for Subscribers during weekdays, the business can boost customer satisfaction and increase ride frequency. Efficient bike distribution based on demand patterns, customized ride plans, and strategic partnerships with tourism and corporate sectors can further enhance revenue growth and brand loyalty. These data-driven actions will help improve both operational efficiency and profitability.\n",
        "\n"
      ],
      "metadata": {
        "id": "druuKYZpp1ck"
      }
    },
    {
      "cell_type": "markdown",
      "source": [
        "# Chart - 12 - Correlation Heatmap"
      ],
      "metadata": {
        "id": "SPkU78qMXj6f"
      }
    },
    {
      "cell_type": "code",
      "source": [
        "plt.figure(figsize=(12, 8))\n",
        "# Select only numerical features for correlation analysis\n",
        "numerical_df = df.select_dtypes(include=np.number)\n",
        "correlation_matrix = numerical_df.corr()\n",
        "sns.heatmap(correlation_matrix, annot=True, cmap='coolwarm', fmt=\".2f\")\n",
        "plt.title('Correlation Matrix of Numerical Features', fontsize=16)\n",
        "plt.show()"
      ],
      "metadata": {
        "id": "AddaLGEDXwuS"
      },
      "execution_count": null,
      "outputs": []
    },
    {
      "cell_type": "markdown",
      "source": [
        "##### 1. Why did you pick the specific chart?"
      ],
      "metadata": {
        "id": "p_0q6riWgVYI"
      }
    },
    {
      "cell_type": "markdown",
      "source": [
        "I chose a correlation matrix heatmap because it is the most efficient way to:\n",
        "\n",
        "1.   Quickly spot relationships between numerical features – The color gradient (red to blue) instantly shows strong positive or negative correlations without needing to read every number.\n",
        "\n",
        "2.   Identify redundant features– For example, start_station_latitude and end_station_latitude are almost perfectly correlated (0.99), suggesting they may not add much new information separately.\n",
        "\n"
      ],
      "metadata": {
        "id": "tVgnNYMkgXgo"
      }
    },
    {
      "cell_type": "markdown",
      "source": [
        "##### 2. What is/are the insight(s) found from the chart?"
      ],
      "metadata": {
        "id": "ZcXCRMPwgY6v"
      }
    },
    {
      "cell_type": "markdown",
      "source": [
        "Trip duration is almost perfectly correlated with trip\n",
        "\n",
        "1.   Trip duration is almost perfectly correlated with trip duration (in seconds and minutes) : duration_sec and trip_duration_minutes have a perfect positive correlation (1.00).\n",
        "➔ Logical, because one is just a scaled version of the other (seconds vs minutes).\n",
        "➔ You can drop one of them to avoid redundancy in analysis or modeling.\n",
        "\n",
        "\n",
        "\n",
        "2.   Start and end station locations are highly correlated :\n",
        "Start station latitude and end station latitude show a very strong positive correlation (0.99).\n",
        "Same for start and end station longitude (also ~0.99).\n",
        "➔ This suggests that in many cases, trips start and end very close to each other (e.g., round trips or short rides within the same area).\n"
      ],
      "metadata": {
        "id": "gHqylm5dgcfp"
      }
    },
    {
      "cell_type": "markdown",
      "source": [
        "#### Chart - 13 - Pair Plot"
      ],
      "metadata": {
        "id": "q29F0dvdveiT"
      }
    },
    {
      "cell_type": "code",
      "source": [
        "# Pair Plot visualization code\n",
        "\n",
        "# Select the numerical variables for the pair plot\n",
        "numerical_vars = ['trip_duration_minutes', 'member_age', 'start_dayofweek', 'start_hourofday']  # Replace with your desired variables\n",
        "\n",
        "# Include 'user_type' in the DataFrame passed to pairplot\n",
        "sns.pairplot(df[['user_type'] + numerical_vars], hue='user_type', palette=\"Set3\")  # 'user_type' is used for color-coding\n",
        "plt.show()"
      ],
      "metadata": {
        "id": "o58-TEIhveiU"
      },
      "execution_count": null,
      "outputs": []
    },
    {
      "cell_type": "markdown",
      "source": [
        "##### 1. Why did you pick the specific chart?"
      ],
      "metadata": {
        "id": "EXh0U9oCveiU"
      }
    },
    {
      "cell_type": "markdown",
      "source": [
        "It looks like the chart you shared is a pair plot (also called a scatterplot matrix). Let me explain why someone would pick this type of chart:\n",
        "\n",
        "Purpose: A pair plot is excellent when you want to quickly\n",
        "\n",
        "*   Purpose: A pair plot is excellent when you want to quickly explore relationships between multiple numerical variables at once. Each scatterplot shows the relationship between a pair of variables, and the diagonal shows the distribution (like a histogram or KDE plot) of each individual variable.\n",
        "\n"
      ],
      "metadata": {
        "id": "eMmPjTByveiU"
      }
    },
    {
      "cell_type": "markdown",
      "source": [
        "##### 2. What is/are the insight(s) found from the chart?"
      ],
      "metadata": {
        "id": "22aHeOlLveiV"
      }
    },
    {
      "cell_type": "markdown",
      "source": [
        "Here are the key insights you can pull from that pair‐plot:\n",
        "\n",
        "Trip duration is heavily right-skewed\n",
        "\n",
        "*   Almost all rides are very short (under 50 min), with a long tail of occasional very long trips.\n",
        "\n",
        "Subscribers vs. customers differ in trip length\n",
        "\n",
        "*   Subscribers (teal) cluster at even shorter durations—most under 20 min—whereas customers (yellow) have a slightly heavier tail of longer trips.\n",
        "\n",
        "\n",
        "Different time-of-day patterns\n",
        "\n",
        "*   Subscribers show the classic commute profile, with two clear peaks in ride starts (morning and evening rush).\n",
        "\n",
        "*   Customers ride more midday and afternoon, with a much flatter hourly distribution.\n",
        "\n",
        "\n",
        "\n",
        "\n"
      ],
      "metadata": {
        "id": "uPQ8RGwHveiV"
      }
    },
    {
      "cell_type": "markdown",
      "source": [
        "## **5. Solution to Business Objective**"
      ],
      "metadata": {
        "id": "JcMwzZxoAimU"
      }
    },
    {
      "cell_type": "markdown",
      "source": [
        "#### What do you suggest the client to achieve Business Objective ?\n",
        "Explain Briefly."
      ],
      "metadata": {
        "id": "8G2x9gOozGDZ"
      }
    },
    {
      "cell_type": "markdown",
      "source": [
        "Predict & Rebalance Bikes\n",
        "\n",
        "*   Use data to move bikes between stations based on peak demand.\n",
        "\n",
        "Personalized Offers\n",
        "\n",
        "*   Target casual customers with discounts to turn them into subscribers.\n",
        "\n",
        "Maintenance Optimization\n",
        "\n",
        "*   Track and fix underperforming bikes before they break.\n",
        "\n",
        "Peak-Time Strategy\n",
        "\n",
        "*   More bikes during rush hours, adjust pricing to balance demand.\n",
        "\n",
        "Promote Eco-Friendly Image\n",
        "\n",
        "*   Market GoBike as a green transport option to attract more users.\n",
        "\n",
        "\n",
        "Real-Time Updates\n",
        "\n",
        "*   Show live bike and dock availability on apps.\n",
        "\n"
      ],
      "metadata": {
        "id": "pASKb0qOza21"
      }
    },
    {
      "cell_type": "markdown",
      "source": [
        "# **Conclusion**"
      ],
      "metadata": {
        "id": "gCX9965dhzqZ"
      }
    },
    {
      "cell_type": "markdown",
      "source": [
        "By leveraging the trip data smartly, Ford GoBike can optimize bike distribution, enhance customer experience, boost ridership, and improve operational efficiency.\n",
        "Through predictive analytics, targeted marketing, real-time updates, and continuous feedback, the service can grow sustainably, better meet user needs, and solidify its position as a leader in urban mobility.\n",
        "\n"
      ],
      "metadata": {
        "id": "Fjb1IsQkh3yE"
      }
    },
    {
      "cell_type": "markdown",
      "source": [
        "### ***Hurrah! You have successfully completed your EDA Capstone Project !!!***"
      ],
      "metadata": {
        "id": "gIfDvo9L0UH2"
      }
    }
  ]
}